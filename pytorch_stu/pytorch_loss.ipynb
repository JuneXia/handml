{
 "cells": [
  {
   "cell_type": "code",
   "execution_count": 1,
   "metadata": {},
   "outputs": [],
   "source": [
    "import torch\n",
    "import torch.nn as nn\n",
    "import torch.nn.functional as F\n",
    "import numpy as np"
   ]
  },
  {
   "cell_type": "code",
   "execution_count": 2,
   "metadata": {},
   "outputs": [],
   "source": [
    "# 生成一个2x3的矩阵，假设这是模型预测值，表示有2条预测数据，每条是一个3维的激活值\n",
    "inputs_tensor = torch.FloatTensor([\n",
    "[10, 3,  1],\n",
    "[-1, 0, -4]\n",
    "])\n",
    "\n",
    "# 真实值\n",
    "targets_tensor = torch.LongTensor([1, 2])"
   ]
  },
  {
   "cell_type": "code",
   "execution_count": 3,
   "metadata": {},
   "outputs": [],
   "source": [
    "# 手动计算softmax\n",
    "# ***********************************************************\n",
    "inputs_exp = inputs_tensor.exp()\n",
    "inputs_exp_sum = inputs_exp.sum(dim=1)\n",
    "inputs_exp = inputs_exp.transpose(0, 1)\n",
    "softmax_result = torch.div(inputs_exp, inputs_exp_sum)  # torch.div的两个输入张量必须广播一致的，而这两个张量的类型必须是一致的。\n",
    "softmax_result = softmax_result.transpose(0, 1)\n",
    "# ***********************************************************"
   ]
  },
  {
   "cell_type": "code",
   "execution_count": 4,
   "metadata": {},
   "outputs": [
    {
     "data": {
      "text/plain": [
       "tensor([[0.9990, 0.0009, 0.0001],\n",
       "        [0.2654, 0.7214, 0.0132]])"
      ]
     },
     "execution_count": 4,
     "metadata": {},
     "output_type": "execute_result"
    }
   ],
   "source": [
    "softmax_result"
   ]
  },
  {
   "cell_type": "code",
   "execution_count": 5,
   "metadata": {},
   "outputs": [
    {
     "name": "stderr",
     "output_type": "stream",
     "text": [
      "/home/xiajun/.local/lib/python3.5/site-packages/ipykernel_launcher.py:2: UserWarning: Implicit dimension choice for softmax has been deprecated. Change the call to include dim=X as an argument.\n",
      "  \n"
     ]
    }
   ],
   "source": [
    "# 使用F.softmax计算softmax\n",
    "softmax_result = F.softmax(inputs_tensor)"
   ]
  },
  {
   "cell_type": "code",
   "execution_count": 6,
   "metadata": {},
   "outputs": [
    {
     "data": {
      "text/plain": [
       "tensor([[0.9990, 0.0009, 0.0001],\n",
       "        [0.2654, 0.7214, 0.0132]])"
      ]
     },
     "execution_count": 6,
     "metadata": {},
     "output_type": "execute_result"
    }
   ],
   "source": [
    "softmax_result"
   ]
  },
  {
   "cell_type": "markdown",
   "metadata": {},
   "source": [
    "我们发现我们自己手动计算的softmax值和使用F.softmax计算的值是相等的，这说明我们的手动计算是成功的。"
   ]
  },
  {
   "cell_type": "code",
   "execution_count": 7,
   "metadata": {},
   "outputs": [],
   "source": [
    "# 使用np.log计算得到log_softmax\n",
    "log_softmax_result = np.log(softmax_result.data)"
   ]
  },
  {
   "cell_type": "code",
   "execution_count": 8,
   "metadata": {},
   "outputs": [
    {
     "data": {
      "text/plain": [
       "tensor([[-0.0010, -7.0010, -9.0010],\n",
       "        [-1.3266, -0.3266, -4.3266]])"
      ]
     },
     "execution_count": 8,
     "metadata": {},
     "output_type": "execute_result"
    }
   ],
   "source": [
    "log_softmax_result"
   ]
  },
  {
   "cell_type": "code",
   "execution_count": 9,
   "metadata": {},
   "outputs": [
    {
     "name": "stderr",
     "output_type": "stream",
     "text": [
      "/home/xiajun/.local/lib/python3.5/site-packages/ipykernel_launcher.py:2: UserWarning: Implicit dimension choice for log_softmax has been deprecated. Change the call to include dim=X as an argument.\n",
      "  \n"
     ]
    }
   ],
   "source": [
    "# 直接调用F.log_softmax计算得到log_softmax\n",
    "log_softmax_result = F.log_softmax(inputs_tensor)"
   ]
  },
  {
   "cell_type": "code",
   "execution_count": 10,
   "metadata": {},
   "outputs": [
    {
     "data": {
      "text/plain": [
       "tensor([[-0.0010, -7.0010, -9.0010],\n",
       "        [-1.3266, -0.3266, -4.3266]])"
      ]
     },
     "execution_count": 10,
     "metadata": {},
     "output_type": "execute_result"
    }
   ],
   "source": [
    "log_softmax_result"
   ]
  },
  {
   "cell_type": "code",
   "execution_count": null,
   "metadata": {},
   "outputs": [],
   "source": []
  },
  {
   "cell_type": "code",
   "execution_count": 11,
   "metadata": {},
   "outputs": [],
   "source": [
    "# 手动计算交叉熵损失\n",
    "# ***********************************************************\n",
    "_targets_tensor = targets_tensor.view(-1, 1)\n",
    "onehot = torch.zeros(2, 3).scatter_(1, _targets_tensor, 1)  # 对真实标签做one-hot编码\n",
    "product = onehot*log_softmax_result\n",
    "cross_entropy = -product.sum(dim=1)\n",
    "cross_entropy_loss = cross_entropy.mean()\n",
    "# ***********************************************************"
   ]
  },
  {
   "cell_type": "code",
   "execution_count": 12,
   "metadata": {},
   "outputs": [
    {
     "data": {
      "text/plain": [
       "tensor(5.6638)"
      ]
     },
     "execution_count": 12,
     "metadata": {},
     "output_type": "execute_result"
    }
   ],
   "source": [
    "cross_entropy_loss"
   ]
  },
  {
   "cell_type": "code",
   "execution_count": 13,
   "metadata": {},
   "outputs": [],
   "source": [
    "# 使用nn.NLLLoss()计算log_softmax得到交叉熵损失\n",
    "loss = nn.NLLLoss()\n",
    "cross_entropy_loss = loss(log_softmax_result, targets_tensor)"
   ]
  },
  {
   "cell_type": "code",
   "execution_count": 14,
   "metadata": {},
   "outputs": [
    {
     "data": {
      "text/plain": [
       "tensor(5.6638)"
      ]
     },
     "execution_count": 14,
     "metadata": {},
     "output_type": "execute_result"
    }
   ],
   "source": [
    "cross_entropy_loss"
   ]
  },
  {
   "cell_type": "code",
   "execution_count": 15,
   "metadata": {},
   "outputs": [],
   "source": [
    "# 直接使用nn.CrossEntropyLoss计算交叉熵损失\n",
    "loss = nn.CrossEntropyLoss()\n",
    "cross_entropy_loss = loss(inputs_tensor, targets_tensor)"
   ]
  },
  {
   "cell_type": "code",
   "execution_count": 16,
   "metadata": {},
   "outputs": [
    {
     "data": {
      "text/plain": [
       "tensor(5.6638)"
      ]
     },
     "execution_count": 16,
     "metadata": {},
     "output_type": "execute_result"
    }
   ],
   "source": [
    "cross_entropy_loss"
   ]
  },
  {
   "cell_type": "code",
   "execution_count": null,
   "metadata": {},
   "outputs": [],
   "source": []
  }
 ],
 "metadata": {
  "kernelspec": {
   "display_name": "Python 3",
   "language": "python",
   "name": "python3"
  },
  "language_info": {
   "codemirror_mode": {
    "name": "ipython",
    "version": 3
   },
   "file_extension": ".py",
   "mimetype": "text/x-python",
   "name": "python",
   "nbconvert_exporter": "python",
   "pygments_lexer": "ipython3",
   "version": "3.5.2"
  }
 },
 "nbformat": 4,
 "nbformat_minor": 2
}
